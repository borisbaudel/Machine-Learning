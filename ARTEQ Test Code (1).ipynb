{
 "cells": [
  {
   "cell_type": "markdown",
   "metadata": {},
   "source": [
    "## TEST: loading pytorch and the MNIST dataset\n",
    "\n",
    "In my exercice session, I will provide an introduction to PyTorch and how to use it to simulate neural networks with custom devices. PyTorch is an open source Python-based library for neural network simulations, widely used in the community.\n",
    "\n",
    "For this, it is critical that you have a working installation of PyTorch and have loaded the MNIST dataset. \n",
    "\n",
    "Please make sure all cells of this test code are executed correctly on the machine that you will use for the class."
   ]
  },
  {
   "cell_type": "markdown",
   "metadata": {},
   "source": [
    "## We import key python and pytorch packages\n",
    "\n",
    "Please install the packages below:\n",
    "- numpy\n",
    "- matplotlib\n",
    "- torch\n",
    "- torchvision\n",
    "- scikit-learn\n",
    "\n",
    "Here are instruction for getting PyTorch related packages: https://pytorch.org/get-started/locally/"
   ]
  },
  {
   "cell_type": "code",
   "execution_count": 26,
   "metadata": {},
   "outputs": [
    {
     "name": "stdout",
     "output_type": "stream",
     "text": [
      "c:\\Users\\boris\\anaconda3\\python.exe\n",
      "2.4.1\n"
     ]
    }
   ],
   "source": [
    "import sys\n",
    "print(sys.executable) \n",
    "import torch\n",
    "print(torch.__version__)\n",
    "import numpy as np  \n",
    "import matplotlib.pyplot as plt \n",
    "import torch\n",
    "import torch.nn as nn\n",
    "import torch.optim\n",
    "from torchvision import datasets, transforms\n",
    "import sklearn as skl"
   ]
  },
  {
   "cell_type": "markdown",
   "metadata": {},
   "source": [
    "## We load the MNIST dataset"
   ]
  },
  {
   "cell_type": "markdown",
   "metadata": {},
   "source": [
    "Here we made a dataloader using pytorch tools. This will download MNIST for you and make it into the dataset format to feed the neural network. "
   ]
  },
  {
   "cell_type": "markdown",
   "metadata": {},
   "source": [
    "MNIST is a widely used dataset for machine learning. It is composed of grayscale images of handwritten digits, each of 28-by-28 pixels. There are ten classes, for the digits 0 to 9.\n",
    "Let's look at the dataset."
   ]
  },
  {
   "cell_type": "code",
   "execution_count": 27,
   "metadata": {},
   "outputs": [],
   "source": [
    "transform_mnist = transforms.Compose([transforms.ToTensor(), transforms.Normalize((0.1307,), (0.3081,))])\n",
    "\n",
    "def load_MNIST(batch_size):\n",
    "    train_loader = torch.utils.data.DataLoader(\n",
    "            datasets.MNIST('data', train=True, download=True, transform=transform_mnist),\n",
    "            batch_size=batch_size, shuffle=True)\n",
    "    test_loader = torch.utils.data.DataLoader(\n",
    "            datasets.MNIST('data', train=False, download=True, transform=transform_mnist),\n",
    "            batch_size=batch_size, shuffle=True)\n",
    "    return train_loader, test_loader, 784, 10"
   ]
  },
  {
   "cell_type": "code",
   "execution_count": 28,
   "metadata": {},
   "outputs": [],
   "source": [
    "batch_size = 1000  # the number of examples per batch\n",
    "train_loader, test_loader, dim_in, dim_out = load_MNIST(batch_size=batch_size)"
   ]
  },
  {
   "cell_type": "markdown",
   "metadata": {},
   "source": [
    "Let's display an example of image. You can change the index to look at different examples."
   ]
  },
  {
   "cell_type": "code",
   "execution_count": 29,
   "metadata": {},
   "outputs": [
    {
     "name": "stdout",
     "output_type": "stream",
     "text": [
      "The shape of the inputs is: torch.Size([28, 28]) => a pytorch tensor of dimensions (28, 28)\n",
      "The class here is 1\n"
     ]
    },
    {
     "data": {
      "image/png": "[encoded data removed]",
      "text/plain": [
       "<Figure size 640x480 with 1 Axes>"
      ]
     },
     "metadata": {},
     "output_type": "display_data"
    }
   ],
   "source": [
    "ex_index = 6575 # pick random index for the example\n",
    "img = train_loader.dataset.data[ex_index]  # we take the DATA corresponding to this index\n",
    "print(f'The shape of the inputs is: {img.shape} => a pytorch tensor of dimensions (28, 28)')\n",
    "digit_class = train_loader.dataset.targets[ex_index]  # we take the TARGET class corresponding to this index\n",
    "plt.imshow(img, cmap=\"gray\")\n",
    "print(f'The class here is {digit_class.numpy()}')"
   ]
  },
  {
   "cell_type": "code",
   "execution_count": 30,
   "metadata": {},
   "outputs": [
    {
     "name": "stdout",
     "output_type": "stream",
     "text": [
      "The number of train examples is 60000\n",
      "The number of test examples is 10000\n"
     ]
    }
   ],
   "source": [
    "print(f'The number of train examples is {batch_size * len(train_loader)}')\n",
    "print(f'The number of test examples is {batch_size * len(test_loader)}')"
   ]
  },
  {
   "cell_type": "code",
   "execution_count": null,
   "metadata": {},
   "outputs": [],
   "source": []
  },
  {
   "cell_type": "code",
   "execution_count": null,
   "metadata": {},
   "outputs": [],
   "source": []
  }
 ],
 "metadata": {
  "kernelspec": {
   "display_name": "Python 3 (ipykernel)",
   "language": "python",
   "name": "python3"
  },
  "language_info": {
   "codemirror_mode": {
    "name": "ipython",
    "version": 3
   },
   "file_extension": ".py",
   "mimetype": "text/x-python",
   "name": "python",
   "nbconvert_exporter": "python",
   "pygments_lexer": "ipython3",
   "version": "3.12.4"
  }
 },
 "nbformat": 4,
 "nbformat_minor": 4
}
